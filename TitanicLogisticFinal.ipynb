{
 "metadata": {
  "name": "",
  "signature": "sha256:a825a4ad791afddc60ec0efb09c9105e6951fc42ed0afe327fdab4f3e0b76a3b"
 },
 "nbformat": 3,
 "nbformat_minor": 0,
 "worksheets": [
  {
   "cells": [
    {
     "cell_type": "markdown",
     "metadata": {},
     "source": [
      "## Predicting Survival on the Titanic using Logistic Regression\n",
      "###Data Prep"
     ]
    },
    {
     "cell_type": "code",
     "collapsed": false,
     "input": [
      "from sklearn.metrics import accuracy_score\n",
      "from sklearn.metrics import roc_curve\n",
      "from sklearn.metrics import roc_auc_score\n",
      "from sklearn.metrics import classification_report\n",
      "from sklearn.linear_model import LogisticRegression\n",
      "from sklearn.cross_validation import train_test_split\n",
      "from sklearn.preprocessing import StandardScaler\n",
      "import pandas as pd\n",
      "%pylab inline"
     ],
     "language": "python",
     "metadata": {},
     "outputs": [
      {
       "output_type": "stream",
       "stream": "stdout",
       "text": [
        "Populating the interactive namespace from numpy and matplotlib\n"
       ]
      }
     ],
     "prompt_number": 532
    },
    {
     "cell_type": "code",
     "collapsed": false,
     "input": [
      "#reading the data from the disk into memory\n",
      "df = pd.read_csv(\"train.csv\")"
     ],
     "language": "python",
     "metadata": {},
     "outputs": [],
     "prompt_number": 533
    },
    {
     "cell_type": "code",
     "collapsed": false,
     "input": [
      "#Final variables\n",
      "X = pd.DataFrame()\n",
      "X['sex'] = df['Sex']\n",
      "X['age'] = df['Age']\n",
      "X['fare'] = df['Fare']\n",
      "X['pclass'] = df['Pclass']\n",
      "X['sibsp'] = df['SibSp']\n",
      "X['parch'] = df['Parch']\n",
      "X['survived'] = df['Survived']"
     ],
     "language": "python",
     "metadata": {},
     "outputs": [],
     "prompt_number": 534
    },
    {
     "cell_type": "code",
     "collapsed": false,
     "input": [
      "X = X.dropna(axis=0)"
     ],
     "language": "python",
     "metadata": {},
     "outputs": [],
     "prompt_number": 535
    },
    {
     "cell_type": "code",
     "collapsed": false,
     "input": [
      "#It seems that the survival rate of those with a cabin listed is higher. \n",
      "def hascabin(x):\n",
      "    if pd.isnull(x):\n",
      "        return 0\n",
      "    else:\n",
      "        return 1\n",
      "    \n",
      "X['has_cabin'] = df['Cabin'].apply(hascabin)\n"
     ],
     "language": "python",
     "metadata": {},
     "outputs": [],
     "prompt_number": 536
    },
    {
     "cell_type": "code",
     "collapsed": false,
     "input": [
      "#survived will be my dependent variable, y.   I'll assign it to y and remove it from X\n",
      "y = X['survived']\n",
      "X = X.drop(['survived'], axis=1)"
     ],
     "language": "python",
     "metadata": {},
     "outputs": [],
     "prompt_number": 537
    },
    {
     "cell_type": "code",
     "collapsed": false,
     "input": [
      "#I thought that the mere existence of Siblings/Spouses or Parents/Children would be a better indicator than the actual number.\n",
      "#The AUC did not agree.\n",
      "\n",
      "#X['sibsp'] = df['SibSp'].map({0: 0, 1: 1, 2: 1, 3: 1, 4: 1, 5: 1})\n",
      "#X['parch'] = df['Parch'].map({0: 0, 1: 1, 2: 1, 3: 1, 4: 1, 5: 1, 6: 1})\n"
     ],
     "language": "python",
     "metadata": {},
     "outputs": [],
     "prompt_number": 538
    },
    {
     "cell_type": "code",
     "collapsed": false,
     "input": [
      "#IMPORTANT! get_dummies returns an indicator variable for each category.\n",
      "#Refering back to my talk on encoding variables, it's important to drop one category\n",
      "#Otherwise you'll have two perfectly colinear variables.   \n",
      "\n",
      "#Here, since I only have two variables it's easy, I'll just take one, and reassign it to sex\n",
      "#so now Sex becomes female = 1, male = 0\n",
      "X['sex'] = pd.get_dummies(X.sex)['female']"
     ],
     "language": "python",
     "metadata": {},
     "outputs": [],
     "prompt_number": 539
    },
    {
     "cell_type": "code",
     "collapsed": false,
     "input": [
      "#remember to scale our features, as with linear regression\n",
      "#moved import statements to the top\n",
      "scaler = StandardScaler()\n",
      "X= scaler.fit_transform(X)"
     ],
     "language": "python",
     "metadata": {},
     "outputs": [],
     "prompt_number": 540
    },
    {
     "cell_type": "code",
     "collapsed": false,
     "input": [
      "#build test and training sets\n",
      "X_train, X_test, y_train, y_test = train_test_split(X, y, test_size=0.2, random_state=42)"
     ],
     "language": "python",
     "metadata": {},
     "outputs": [],
     "prompt_number": 541
    },
    {
     "cell_type": "markdown",
     "metadata": {},
     "source": [
      "### Model Creation\n",
      "####Base Rate Model\n"
     ]
    },
    {
     "cell_type": "code",
     "collapsed": false,
     "input": [
      "#This function looks for females in the test set and returns 1, survived, otherwise it returns 0\n",
      "def base_rate_model(X):\n",
      "    y = np.zeros(X.shape[0])\n",
      "    return y\n",
      "    "
     ],
     "language": "python",
     "metadata": {},
     "outputs": [],
     "prompt_number": 542
    },
    {
     "cell_type": "code",
     "collapsed": false,
     "input": [
      "#how accurate is my base rate model?\n",
      "y_base_rate = base_rate_model(X_test)\n",
      "print \"Base rate accuracy is %2.2f\" % accuracy_score(y_test, y_base_rate)"
     ],
     "language": "python",
     "metadata": {},
     "outputs": [
      {
       "output_type": "stream",
       "stream": "stdout",
       "text": [
        "Base rate accuracy is 0.61\n"
       ]
      }
     ],
     "prompt_number": 543
    },
    {
     "cell_type": "markdown",
     "metadata": {},
     "source": [
      "So, our base model is 61% correct, lets see if logistic can beat it."
     ]
    },
    {
     "cell_type": "code",
     "collapsed": false,
     "input": [
      "model = LogisticRegression(penalty='l2', C=1)"
     ],
     "language": "python",
     "metadata": {},
     "outputs": [],
     "prompt_number": 544
    },
    {
     "cell_type": "code",
     "collapsed": false,
     "input": [
      "model.fit(X_train, y_train)"
     ],
     "language": "python",
     "metadata": {},
     "outputs": [
      {
       "metadata": {},
       "output_type": "pyout",
       "prompt_number": 545,
       "text": [
        "LogisticRegression(C=1, class_weight=None, dual=False, fit_intercept=True,\n",
        "          intercept_scaling=1, penalty='l2', random_state=None, tol=0.0001)"
       ]
      }
     ],
     "prompt_number": 545
    },
    {
     "cell_type": "code",
     "collapsed": false,
     "input": [
      "print \"Logistic accuracy is %2.2f\" % accuracy_score(y_test,model.predict(X_test))"
     ],
     "language": "python",
     "metadata": {},
     "outputs": [
      {
       "output_type": "stream",
       "stream": "stdout",
       "text": [
        "Logistic accuracy is 0.75\n"
       ]
      }
     ],
     "prompt_number": 546
    },
    {
     "cell_type": "markdown",
     "metadata": {},
     "source": [
      "### Model Comparison"
     ]
    },
    {
     "cell_type": "code",
     "collapsed": false,
     "input": [
      "print \"---Base Model---\"\n",
      "#base rate AUC\n",
      "base_roc_auc = roc_auc_score(y_test, base_rate_model(X_test))\n",
      "print \"Base Rate AUC = %2.2f\" % base_roc_auc\n",
      "print classification_report(y_test,base_rate_model(X_test) )\n",
      "print \"\\n\\n---Logistic Model---\"\n",
      "#logistic AUC\n",
      "logit_roc_auc = roc_auc_score(y_test, model.predict(X_test))\n",
      "print \"Logistic AUC = %2.2f\" % logit_roc_auc\n",
      "print classification_report(y_test, model.predict(X_test) )"
     ],
     "language": "python",
     "metadata": {},
     "outputs": [
      {
       "output_type": "stream",
       "stream": "stdout",
       "text": [
        "---Base Model---\n",
        "Base Rate AUC = 0.50\n",
        "             precision    recall  f1-score   support\n",
        "\n",
        "          0       0.61      1.00      0.76        87\n",
        "          1       0.00      0.00      0.00        56\n",
        "\n",
        "avg / total       0.37      0.61      0.46       143\n",
        "\n",
        "\n",
        "\n",
        "---Logistic Model---\n",
        "Logistic AUC = 0.74\n",
        "             precision    recall  f1-score   support\n",
        "\n",
        "          0       0.79      0.79      0.79        87\n",
        "          1       0.68      0.68      0.68        56\n",
        "\n",
        "avg / total       0.75      0.75      0.75       143\n",
        "\n"
       ]
      }
     ],
     "prompt_number": 547
    },
    {
     "cell_type": "code",
     "collapsed": false,
     "input": [
      "fpr, tpr, thresholds = roc_curve(y_test, model.predict_proba(X_test)[:,1])"
     ],
     "language": "python",
     "metadata": {},
     "outputs": [],
     "prompt_number": 548
    },
    {
     "cell_type": "code",
     "collapsed": false,
     "input": [
      "# Plot of a ROC curve for a specific class\n",
      "plt.figure()\n",
      "plt.plot(fpr, tpr, label='ROC curve (area = %0.2f)' % logit_roc_auc)\n",
      "plt.plot([0, 1], [0, 1], 'k--')\n",
      "plt.xlim([0.0, 1.0])\n",
      "plt.ylim([0.0, 1.05])\n",
      "plt.xlabel('False Positive Rate')\n",
      "plt.ylabel('True Positive Rate')\n",
      "plt.title('Receiver operating characteristic example')\n",
      "plt.legend(loc=\"lower right\")\n",
      "plt.show()"
     ],
     "language": "python",
     "metadata": {},
     "outputs": [
      {
       "metadata": {},
       "output_type": "display_data",
       "png": "[encoded data removed]",
       "text": [
        "<matplotlib.figure.Figure at 0x166f0ef0>"
       ]
      }
     ],
     "prompt_number": 549
    },
    {
     "cell_type": "markdown",
     "metadata": {},
     "source": [
      "## Slightly higher, but still not high enough..."
     ]
    }
   ],
   "metadata": {}
  }
 ]
}