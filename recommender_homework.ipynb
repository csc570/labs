{
 "metadata": {
  "name": "",
  "signature": "sha256:91b6a6b895f5a9b62343d3c62b1b117a8517c75a5e28e033ffe10ea3c8cb0f9e"
 },
 "nbformat": 3,
 "nbformat_minor": 0,
 "worksheets": [
  {
   "cells": [
    {
     "cell_type": "code",
     "collapsed": false,
     "input": [
      "import pandas as pd\n",
      "import numpy as np"
     ],
     "language": "python",
     "metadata": {},
     "outputs": [],
     "prompt_number": 2
    },
    {
     "cell_type": "code",
     "collapsed": false,
     "input": [
      "#download the class movie reviews from here:\n",
      "#https://docs.google.com/spreadsheets/d/17rCJzmWxqvAu9rkpkgt4ToccIlY4A1Ffuu1W9X3B8Ag/\n",
      "#then read that in as a pandas dataframe"
     ],
     "language": "python",
     "metadata": {},
     "outputs": [],
     "prompt_number": 3
    },
    {
     "cell_type": "code",
     "collapsed": false,
     "input": [
      "M = pd.read_csv(\"moviereviews.csv\", index_col='Name')"
     ],
     "language": "python",
     "metadata": {},
     "outputs": [],
     "prompt_number": 4
    },
    {
     "cell_type": "code",
     "collapsed": false,
     "input": [
      "def pearson(s1, s2):\n",
      "    \"\"\"Take two pd.Series objects and return a pearson correlation.\"\"\"\n",
      "    s1_c = s1 - s1.mean()\n",
      "    s2_c = s2 - s2.mean()\n",
      "    return np.sum(s1_c * s2_c) / np.sqrt(np.sum(s1_c ** 2) * np.sum(s2_c ** 2))"
     ],
     "language": "python",
     "metadata": {},
     "outputs": [],
     "prompt_number": 5
    },
    {
     "cell_type": "code",
     "collapsed": false,
     "input": [
      "def get_recs(movie_name, M, num):\n",
      "\n",
      "    import numpy as np\n",
      "    reviews = []\n",
      "    for title in M.columns:\n",
      "        if title == movie_name:\n",
      "            continue\n",
      "        cor = pearson(M[movie_name], M[title])\n",
      "        if np.isnan(cor):\n",
      "            continue\n",
      "        else:\n",
      "            reviews.append((title, cor))\n",
      "    \n",
      "    reviews.sort(key=lambda tup: tup[1], reverse=True)\n",
      "    return reviews[:num]\n",
      "\n",
      "    "
     ],
     "language": "python",
     "metadata": {},
     "outputs": [],
     "prompt_number": 6
    },
    {
     "cell_type": "markdown",
     "metadata": {},
     "source": [
      "###Question 1:  What movie is most Similar to 'The fault in our stars' (60 pts)\n"
     ]
    },
    {
     "cell_type": "code",
     "collapsed": false,
     "input": [
      "get_recs('The Fault in Our Stars', M, 1)"
     ],
     "language": "python",
     "metadata": {},
     "outputs": [
      {
       "metadata": {},
       "output_type": "pyout",
       "prompt_number": 7,
       "text": [
        "[('Transformers', 0.47092023171710867)]"
       ]
      }
     ],
     "prompt_number": 7
    },
    {
     "cell_type": "markdown",
     "metadata": {},
     "source": [
      "###Question 2:  Which movie(s) would you most like to see, based on your classmates experience? (40 pts)"
     ]
    },
    {
     "cell_type": "code",
     "collapsed": false,
     "input": [
      "#HINTS...\n",
      "\n",
      "#the movies I've seen\n",
      "my_ratings = M.ix['Mike'].dropna()\n",
      "#the movie I've rated the highest\n",
      "my_ratings.sort(ascending=False)\n",
      "#the name of the movie I've rated the highest\n",
      "fav_movie = my_ratings.index[0]\n",
      "fav_movie"
     ],
     "language": "python",
     "metadata": {},
     "outputs": [
      {
       "metadata": {},
       "output_type": "pyout",
       "prompt_number": 8,
       "text": [
        "'Guardians of the Galaxy'"
       ]
      }
     ],
     "prompt_number": 8
    },
    {
     "cell_type": "markdown",
     "metadata": {},
     "source": [
      "I queried fav_movie out of curiosity :) \n",
      "Since I had not seen any of the movies in the list, I couldn't contribute any ratings, so I've just used yours for the next step:"
     ]
    },
    {
     "cell_type": "code",
     "collapsed": false,
     "input": [
      "get_recs(fav_movie, M, 5)"
     ],
     "language": "python",
     "metadata": {},
     "outputs": [
      {
       "metadata": {},
       "output_type": "pyout",
       "prompt_number": 9,
       "text": [
        "[('The Hunger Games: Mockingjay - Part 1', 0.70775997948241065),\n",
        " ('Godzilla', 0.24907332112025238),\n",
        " ('The Hobbit', 0.23023053848779257),\n",
        " ('Big Hero 6', 0.21504147207590096),\n",
        " ('The Fault in Our Stars', 0.13766869518769173)]"
       ]
      }
     ],
     "prompt_number": 9
    },
    {
     "cell_type": "markdown",
     "metadata": {},
     "source": [
      "###Question 3: Bonus Question...  For all the movies you haven't seen, can you predict how you'd rate them using your the class reviews? (10 pts)"
     ]
    },
    {
     "cell_type": "markdown",
     "metadata": {},
     "source": [
      "I wish I could have figured this part out!"
     ]
    }
   ],
   "metadata": {}
  }
 ]
}