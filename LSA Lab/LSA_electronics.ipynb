{
 "metadata": {
  "name": "",
  "signature": "sha256:f11f9556b2f3ffcdf7bd6a005102702c0c6b639a9aeaa11d589a6e3a49e41b7d"
 },
 "nbformat": 3,
 "nbformat_minor": 0,
 "worksheets": [
  {
   "cells": [
    {
     "cell_type": "heading",
     "level": 3,
     "metadata": {},
     "source": [
      "CSC 570 LSA Asignment"
     ]
    },
    {
     "cell_type": "code",
     "collapsed": false,
     "input": [
      "from bs4 import BeautifulSoup\n",
      "import nltk\n",
      "from nltk.corpus import stopwords\n",
      "from sklearn.feature_extraction.text import TfidfVectorizer\n",
      "from sklearn.decomposition import TruncatedSVD"
     ],
     "language": "python",
     "metadata": {},
     "outputs": [],
     "prompt_number": 2
    },
    {
     "cell_type": "code",
     "collapsed": false,
     "input": [
      "nltk.download('stopwords')"
     ],
     "language": "python",
     "metadata": {},
     "outputs": [
      {
       "output_type": "stream",
       "stream": "stdout",
       "text": [
        "[nltk_data] Downloading package stopwords to\n",
        "[nltk_data]     C:\\Users\\me\\AppData\\Roaming\\nltk_data...\n",
        "[nltk_data]   Package stopwords is already up-to-date!\n"
       ]
      },
      {
       "metadata": {},
       "output_type": "pyout",
       "prompt_number": 3,
       "text": [
        "True"
       ]
      }
     ],
     "prompt_number": 3
    },
    {
     "cell_type": "heading",
     "level": 3,
     "metadata": {},
     "source": [
      "Let's try the sci.electronics group"
     ]
    },
    {
     "cell_type": "code",
     "collapsed": false,
     "input": [
      "from sklearn.datasets import fetch_20newsgroups\n",
      "categories = ['sci.electronics']\n",
      "dataset = fetch_20newsgroups(subset='all',shuffle=True, random_state=42, categories=categories)\n",
      "corpus = dataset.data"
     ],
     "language": "python",
     "metadata": {},
     "outputs": [],
     "prompt_number": 4
    },
    {
     "cell_type": "code",
     "collapsed": false,
     "input": [
      "corpus[0]"
     ],
     "language": "python",
     "metadata": {},
     "outputs": [
      {
       "metadata": {},
       "output_type": "pyout",
       "prompt_number": 45,
       "text": [
        "u'From: mpaul@unl.edu (marxhausen paul)\\nSubject: Re: How to the disks copy protected.\\nOrganization: University of Nebraska--Lincoln\\t\\nLines: 14\\nDistribution: world\\nNNTP-Posting-Host: unlinfo.unl.edu\\n\\nComments about \"who needs backup copies\"?  and \"YOU do\" deleted....\\n\\nI\\'ll toss in my 2 cents worth - I\\'ve begun to think that distribution\\ndisks are made on some of the least reliable floppy disk stocks available.\\nWe\\'ve been especially plagued by Borland\\'s distribution disks.  I\\'m \\nlucky if I can install from them as many as 3 times before they crap \\nout on me.  So definitely, as a matter of course we ALWAYS make copies\\nto do our installations with.\\n\\n--\\npaul marxhausen .... ....... ............. ............ ............ .......... \\n .. . .  . . . university of nebraska - lincoln .  . . .. . .  .. . . . . . . .\\n .     .    .  .   .     .   .  .    .   .  .   .    .   .  grace .   .    .  . \\n   .         .       .      .        .        .      .        .   happens .     \\n'"
       ]
      }
     ],
     "prompt_number": 45
    },
    {
     "cell_type": "code",
     "collapsed": false,
     "input": [
      "stopset = set(stopwords.words('english'))\n",
      "stopset.update(['lt','p','\\n', '/p','br','line', 'lines', '00 00 gmt', '00 00', 'anyone', 'know'\n",
      "                'white','word','letter',  'apple', 'host', 'posting', 'nntp', 'nntp posting', 'nntp posting host' 'posting host', 'edu', 'com', 'would','one', 're', 'ca','etc', 'subject', 'subject re', 'reply', 'gmt', '00 44'  ])"
     ],
     "language": "python",
     "metadata": {},
     "outputs": [],
     "prompt_number": 46
    },
    {
     "cell_type": "code",
     "collapsed": false,
     "input": [
      "vectorizer = TfidfVectorizer(stop_words=stopset,\n",
      "                                 use_idf=True, ngram_range=(1, 3))\n",
      "X = vectorizer.fit_transform(corpus)"
     ],
     "language": "python",
     "metadata": {},
     "outputs": [],
     "prompt_number": 47
    },
    {
     "cell_type": "code",
     "collapsed": false,
     "input": [
      "X[0]"
     ],
     "language": "python",
     "metadata": {},
     "outputs": [
      {
       "metadata": {},
       "output_type": "pyout",
       "prompt_number": 48,
       "text": [
        "<1x172855 sparse matrix of type '<type 'numpy.float64'>'\n",
        "\twith 167 stored elements in Compressed Sparse Row format>"
       ]
      }
     ],
     "prompt_number": 48
    },
    {
     "cell_type": "code",
     "collapsed": false,
     "input": [
      "print X[0]"
     ],
     "language": "python",
     "metadata": {},
     "outputs": [
      {
       "output_type": "stream",
       "stream": "stdout",
       "text": [
        "  (0, 89797)\t0.0687875301518\n",
        "  (0, 103062)\t0.0687875301518\n",
        "  (0, 95412)\t0.0687875301518\n",
        "  (0, 113115)\t0.0687875301518\n",
        "  (0, 80367)\t0.0811743987721\n",
        "  (0, 42141)\t0.0811743987721\n",
        "  (0, 94075)\t0.0811743987721\n",
        "  (0, 16935)\t0.0811743987721\n",
        "  (0, 43652)\t0.0811743987721\n",
        "  (0, 95673)\t0.0811743987721\n",
        "  (0, 47719)\t0.0811743987721\n",
        "  (0, 44111)\t0.0811743987721\n",
        "  (0, 152701)\t0.0811743987721\n",
        "  (0, 95010)\t0.0811743987721\n",
        "  (0, 80297)\t0.0811743987721\n",
        "  (0, 92654)\t0.0811743987721\n",
        "  (0, 51519)\t0.0811743987721\n",
        "  (0, 51859)\t0.0811743987721\n",
        "  (0, 27504)\t0.0811743987721\n",
        "  (0, 116034)\t0.0811743987721\n",
        "  (0, 58230)\t0.0811743987721\n",
        "  (0, 162912)\t0.0811743987721\n",
        "  (0, 22609)\t0.0811743987721\n",
        "  (0, 144186)\t0.0811743987721\n",
        "  (0, 51469)\t0.0811743987721\n",
        "  :\t:\n",
        "  (0, 162859)\t0.0603823411146\n",
        "  (0, 170412)\t0.0536369024557\n",
        "  (0, 33692)\t0.0708432082048\n",
        "  (0, 153538)\t0.0733591548059\n",
        "  (0, 90415)\t0.0367330098386\n",
        "  (0, 47878)\t0.0552127202726\n",
        "  (0, 42111)\t0.102837982381\n",
        "  (0, 23197)\t0.0564006615315\n",
        "  (0, 103746)\t0.0531570422195\n",
        "  (0, 38276)\t0.0592342351567\n",
        "  (0, 158882)\t0.0687875301518\n",
        "  (0, 170240)\t0.0351049598159\n",
        "  (0, 51855)\t0.0886095012159\n",
        "  (0, 2141)\t0.0401605649379\n",
        "  (0, 89783)\t0.13108782168\n",
        "  (0, 103055)\t0.137575060304\n",
        "  (0, 158238)\t0.0440876812056\n",
        "  (0, 109328)\t0.011588389902\n",
        "  (0, 121512)\t0.0428258516523\n",
        "  (0, 42234)\t0.0393038227947\n",
        "  (0, 51499)\t0.132673640902\n",
        "  (0, 113091)\t0.104509119186\n",
        "  (0, 95403)\t0.13108782168\n",
        "  (0, 158761)\t0.13108782168\n",
        "  (0, 101120)\t0.0655439108398\n"
       ]
      }
     ],
     "prompt_number": 49
    },
    {
     "cell_type": "code",
     "collapsed": false,
     "input": [
      "X.shape"
     ],
     "language": "python",
     "metadata": {},
     "outputs": [
      {
       "metadata": {},
       "output_type": "pyout",
       "prompt_number": 50,
       "text": [
        "(984, 172855)"
       ]
      }
     ],
     "prompt_number": 50
    },
    {
     "cell_type": "code",
     "collapsed": false,
     "input": [
      "lsa = TruncatedSVD(n_components=27, n_iter=100)\n",
      "lsa.fit(X)\n"
     ],
     "language": "python",
     "metadata": {},
     "outputs": [
      {
       "metadata": {},
       "output_type": "pyout",
       "prompt_number": 51,
       "text": [
        "TruncatedSVD(algorithm='randomized', n_components=27, n_iter=100,\n",
        "       random_state=None, tol=0.0)"
       ]
      }
     ],
     "prompt_number": 51
    },
    {
     "cell_type": "code",
     "collapsed": false,
     "input": [
      "lsa.components_[0]"
     ],
     "language": "python",
     "metadata": {},
     "outputs": [
      {
       "metadata": {},
       "output_type": "pyout",
       "prompt_number": 52,
       "text": [
        "array([ 0.01269487,  0.00085893,  0.00028501, ...,  0.00141995,\n",
        "        0.00141995,  0.00141995])"
       ]
      }
     ],
     "prompt_number": 52
    },
    {
     "cell_type": "heading",
     "level": 3,
     "metadata": {},
     "source": [
      "This is the third pass of generating concepts after editing stopwords-- see text files for the first two. "
     ]
    },
    {
     "cell_type": "code",
     "collapsed": false,
     "input": [
      "terms = vectorizer.get_feature_names()\n",
      "for i, comp in enumerate(lsa.components_): \n",
      "    termsInComp = zip (terms,comp)\n",
      "    sortedTerms =  sorted(termsInComp, key=lambda x: x[1], reverse=True) [:10]\n",
      "    print \"Concept %d:\" % i\n",
      "    for term in sortedTerms:\n",
      "        print term[0]\n",
      "    print \" \""
     ],
     "language": "python",
     "metadata": {},
     "outputs": [
      {
       "output_type": "stream",
       "stream": "stdout",
       "text": [
        "Concept 0:\n",
        "use\n",
        "writes\n",
        "copy\n",
        "article\n",
        "organization\n",
        "university\n",
        "battery\n",
        "know\n",
        "like\n",
        "power\n",
        " \n",
        "Concept 1:"
       ]
      },
      {
       "output_type": "stream",
       "stream": "stdout",
       "text": [
        "\n",
        "b30\n",
        "ingr\n",
        "catbyte\n",
        "dtmedin\n",
        "b30 ingr\n",
        "catbyte b30\n",
        "catbyte b30 ingr\n",
        "dtmedin catbyte\n",
        "dtmedin catbyte b30\n",
        "dave medin\n",
        " \n",
        "Concept 2:"
       ]
      },
      {
       "output_type": "stream",
       "stream": "stdout",
       "text": [
        "\n",
        "copy\n",
        "copy protection\n",
        "article\n",
        "protection\n",
        "ketil\n",
        "tih\n",
        "reed\n",
        "imag\n",
        "schaefer\n",
        "protected\n",
        " \n",
        "Concept 3:"
       ]
      },
      {
       "output_type": "stream",
       "stream": "stdout",
       "text": [
        "\n",
        "concrete\n",
        "battery\n",
        "lead\n",
        "acid\n",
        "may\n",
        "power\n",
        "university\n",
        "current\n",
        "discharge\n",
        "uga\n",
        " \n",
        "Concept 4:"
       ]
      },
      {
       "output_type": "stream",
       "stream": "stdout",
       "text": [
        "\n",
        "wiring\n",
        "ground\n",
        "organization\n",
        "wire\n",
        "00 1993\n",
        "power\n",
        "00 00 48\n",
        "neutral\n",
        "outlets\n",
        "ac\n",
        " \n",
        "Concept 5:"
       ]
      },
      {
       "output_type": "stream",
       "stream": "stdout",
       "text": [
        "\n",
        "audio\n",
        "relays\n",
        "sure\n",
        "writes\n",
        "work\n",
        "uk\n",
        "switching\n",
        "university\n",
        "help\n",
        "research\n",
        " \n",
        "Concept 6:"
       ]
      },
      {
       "output_type": "stream",
       "stream": "stdout",
       "text": [
        "\n",
        "phone\n",
        "au\n",
        "even\n",
        "00 1993 fujitsu\n",
        "thanks\n",
        "00 1993 10\n",
        "chip\n",
        "ac\n",
        "get\n",
        "number\n",
        " \n",
        "Concept 7:"
       ]
      },
      {
       "output_type": "stream",
       "stream": "stdout",
       "text": [
        "\n",
        "article\n",
        "00 00 48\n",
        "00 1993 motorola\n",
        "battery\n",
        "circuit\n",
        "towers\n",
        "cooling\n",
        "writes\n",
        "question\n",
        "know\n",
        " \n",
        "Concept 8:"
       ]
      },
      {
       "output_type": "stream",
       "stream": "stdout",
       "text": [
        "\n",
        "00 18 edt\n",
        "know\n",
        "make\n",
        "power\n",
        "really\n",
        "number\n",
        "00 1993 fujitsu\n",
        "battery\n",
        "organization\n",
        "phone\n",
        " \n",
        "Concept 9:"
       ]
      },
      {
       "output_type": "stream",
       "stream": "stdout",
       "text": [
        "\n",
        "also\n",
        "00 36\n",
        "help\n",
        "could\n",
        "question\n",
        "program\n",
        "blue\n",
        "using\n",
        "power\n",
        "seen\n",
        " \n",
        "Concept 10:"
       ]
      },
      {
       "output_type": "stream",
       "stream": "stdout",
       "text": [
        "\n",
        "get\n",
        "like\n",
        "article\n",
        "chip\n",
        "something\n",
        "distribution\n",
        "amp\n",
        "light\n",
        "ve\n",
        "probably\n",
        " \n",
        "Concept 11:"
       ]
      },
      {
       "output_type": "stream",
       "stream": "stdout",
       "text": [
        "\n",
        "article\n",
        "also\n",
        "two\n",
        "00 1993 made\n",
        "00 1993 fujitsu\n",
        "good\n",
        "help\n",
        "blue\n",
        "board\n",
        "10\n",
        " \n",
        "Concept 12:"
       ]
      },
      {
       "output_type": "stream",
       "stream": "stdout",
       "text": [
        "\n",
        "writes\n",
        "use\n",
        "get\n",
        "00 1993 made\n",
        "00 1993 10\n",
        "00 36\n",
        "circuit\n",
        "know\n",
        "people\n",
        "current\n",
        " \n",
        "Concept 13:"
       ]
      },
      {
       "output_type": "stream",
       "stream": "stdout",
       "text": [
        "\n",
        "time\n",
        "00 1993 fujitsu\n",
        "power\n",
        "lead\n",
        "get\n",
        "need\n",
        "know\n",
        "could\n",
        "wire\n",
        "many\n",
        " \n",
        "Concept 14:"
       ]
      },
      {
       "output_type": "stream",
       "stream": "stdout",
       "text": [
        "\n",
        "want\n",
        "use\n",
        "used\n",
        "wiring\n",
        "find\n",
        "circuit\n",
        "probably\n",
        "gfci\n",
        "cable\n",
        "sehari\n",
        " \n",
        "Concept 15:"
       ]
      },
      {
       "output_type": "stream",
       "stream": "stdout",
       "text": [
        "\n",
        "used\n",
        "radio\n",
        "also\n",
        "university\n",
        "power\n",
        "00 1993 10\n",
        "electronics\n",
        "around\n",
        "number\n",
        "00 36\n",
        " \n",
        "Concept 16:"
       ]
      },
      {
       "output_type": "stream",
       "stream": "stdout",
       "text": [
        "\n",
        "like\n",
        "power\n",
        "ground\n",
        "uk\n",
        "time\n",
        "00 00 48\n",
        "00 1993 made\n",
        "see\n",
        "john\n",
        "00 18 edt\n",
        " \n",
        "Concept 17:"
       ]
      },
      {
       "output_type": "stream",
       "stream": "stdout",
       "text": [
        "\n",
        "00 1993 made\n",
        "copy\n",
        "lead\n",
        "00 18\n",
        "circuit\n",
        "like\n",
        "right\n",
        "circuits\n",
        "new\n",
        "writes\n",
        " \n",
        "Concept 18:"
       ]
      },
      {
       "output_type": "stream",
       "stream": "stdout",
       "text": [
        "\n",
        "00 1993 motorola\n",
        "phone\n",
        "00 1993\n",
        "need\n",
        "sure\n",
        "work\n",
        "power\n",
        "want\n",
        "david\n",
        "two\n",
        " \n",
        "Concept 19:"
       ]
      },
      {
       "output_type": "stream",
       "stream": "stdout",
       "text": [
        "\n",
        "also\n",
        "use\n",
        "get\n",
        "phone\n",
        "really\n",
        "help\n",
        "could\n",
        "university\n",
        "00 1993 10\n",
        "data\n",
        " \n",
        "Concept 20:"
       ]
      },
      {
       "output_type": "stream",
       "stream": "stdout",
       "text": [
        "\n",
        "article\n",
        "get\n",
        "well\n",
        "00 1993 made\n",
        "use\n",
        "radio\n",
        "used\n",
        "long\n",
        "probably\n",
        "want\n",
        " \n",
        "Concept 21:"
       ]
      },
      {
       "output_type": "stream",
       "stream": "stdout",
       "text": [
        "\n",
        "00 00 48\n",
        "know\n",
        "use\n",
        "two\n",
        "writes\n",
        "university\n",
        "like\n",
        "00 36\n",
        "good\n",
        "sure\n",
        " \n",
        "Concept 22:"
       ]
      },
      {
       "output_type": "stream",
       "stream": "stdout",
       "text": [
        "\n",
        "university\n",
        "time\n",
        "usa\n",
        "long\n",
        "state\n",
        "could\n",
        "00 1993 made\n",
        "00 18\n",
        "know\n",
        "00 1993\n",
        " \n",
        "Concept 23:"
       ]
      },
      {
       "output_type": "stream",
       "stream": "stdout",
       "text": [
        "\n",
        "much\n",
        "want\n",
        "need\n",
        "power\n",
        "people\n",
        "00 1993 made\n",
        "phone\n",
        "well\n",
        "10\n",
        "ground\n",
        " \n",
        "Concept 24:"
       ]
      },
      {
       "output_type": "stream",
       "stream": "stdout",
       "text": [
        "\n",
        "use\n",
        "00 36\n",
        "00 18 edt\n",
        "00 1993 fujitsu\n",
        "university\n",
        "need\n",
        "phone\n",
        "circuit\n",
        "00 18\n",
        "help\n",
        " \n",
        "Concept 25:"
       ]
      },
      {
       "output_type": "stream",
       "stream": "stdout",
       "text": [
        "\n",
        "00 1993 made\n",
        "university\n",
        "00 1993 motorola\n",
        "even\n",
        "10\n",
        "00 36\n",
        "know\n",
        "could\n",
        "look\n",
        "00 1993 fujitsu\n",
        " \n",
        "Concept 26:"
       ]
      },
      {
       "output_type": "stream",
       "stream": "stdout",
       "text": [
        "\n",
        "article\n",
        "00 18\n",
        "ve\n",
        "problem\n",
        "used\n",
        "writes\n",
        "probably\n",
        "00 00 48\n",
        "power\n",
        "thanks\n",
        " \n"
       ]
      }
     ],
     "prompt_number": 53
    }
   ],
   "metadata": {}
  }
 ]
}