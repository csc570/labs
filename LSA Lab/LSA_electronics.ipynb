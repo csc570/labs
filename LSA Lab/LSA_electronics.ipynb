{
 "metadata": {
  "name": "",
  "signature": "sha256:68d6cc3642719c5a9494b5f71f8f89ecbf62b2c88389c26c3b4e0b621da53f1b"
 },
 "nbformat": 3,
 "nbformat_minor": 0,
 "worksheets": [
  {
   "cells": [
    {
     "cell_type": "heading",
     "level": 3,
     "metadata": {},
     "source": [
      "CSC 570 LSA Asignment"
     ]
    },
    {
     "cell_type": "code",
     "collapsed": false,
     "input": [
      "from bs4 import BeautifulSoup\n",
      "import nltk\n",
      "from nltk.corpus import stopwords\n",
      "from sklearn.feature_extraction.text import TfidfVectorizer\n",
      "from sklearn.decomposition import TruncatedSVD"
     ],
     "language": "python",
     "metadata": {},
     "outputs": [],
     "prompt_number": 2
    },
    {
     "cell_type": "code",
     "collapsed": false,
     "input": [
      "nltk.download('stopwords')"
     ],
     "language": "python",
     "metadata": {},
     "outputs": [
      {
       "output_type": "stream",
       "stream": "stdout",
       "text": [
        "[nltk_data] Downloading package stopwords to\n",
        "[nltk_data]     C:\\Users\\me\\AppData\\Roaming\\nltk_data...\n",
        "[nltk_data]   Package stopwords is already up-to-date!\n"
       ]
      },
      {
       "metadata": {},
       "output_type": "pyout",
       "prompt_number": 3,
       "text": [
        "True"
       ]
      }
     ],
     "prompt_number": 3
    },
    {
     "cell_type": "heading",
     "level": 3,
     "metadata": {},
     "source": [
      "Let's try the sci.electronics group"
     ]
    },
    {
     "cell_type": "code",
     "collapsed": false,
     "input": [
      "from sklearn.datasets import fetch_20newsgroups\n",
      "categories = ['sci.electronics']\n",
      "dataset = fetch_20newsgroups(subset='all',shuffle=True, random_state=42, categories=categories)\n",
      "corpus = dataset.data"
     ],
     "language": "python",
     "metadata": {},
     "outputs": [],
     "prompt_number": 4
    },
    {
     "cell_type": "code",
     "collapsed": false,
     "input": [
      "corpus[0]"
     ],
     "language": "python",
     "metadata": {},
     "outputs": [
      {
       "metadata": {},
       "output_type": "pyout",
       "prompt_number": 7,
       "text": [
        "u'From: mpaul@unl.edu (marxhausen paul)\\nSubject: Re: How to the disks copy protected.\\nOrganization: University of Nebraska--Lincoln\\t\\nLines: 14\\nDistribution: world\\nNNTP-Posting-Host: unlinfo.unl.edu\\n\\nComments about \"who needs backup copies\"?  and \"YOU do\" deleted....\\n\\nI\\'ll toss in my 2 cents worth - I\\'ve begun to think that distribution\\ndisks are made on some of the least reliable floppy disk stocks available.\\nWe\\'ve been especially plagued by Borland\\'s distribution disks.  I\\'m \\nlucky if I can install from them as many as 3 times before they crap \\nout on me.  So definitely, as a matter of course we ALWAYS make copies\\nto do our installations with.\\n\\n--\\npaul marxhausen .... ....... ............. ............ ............ .......... \\n .. . .  . . . university of nebraska - lincoln .  . . .. . .  .. . . . . . . .\\n .     .    .  .   .     .   .  .    .   .  .   .    .   .  grace .   .    .  . \\n   .         .       .      .        .        .      .        .   happens .     \\n'"
       ]
      }
     ],
     "prompt_number": 7
    },
    {
     "cell_type": "code",
     "collapsed": false,
     "input": [
      "stopset = set(stopwords.words('english'))\n",
      "stopset.update(['lt','p','\\n', '/p','br','line', 'lines', '00 00 gmt', '00 00', 'anyone', 'know'\n",
      "                'white','word','letter',  'apple', 'host', 'posting', 'nntp', 'nntp posting', 'nntp posting host' 'posting host', 'edu', 'com', 'would','one', 're', 'ca','etc', 'subject', 'subject re', 'reply', 'gmt', '00 44'  ])"
     ],
     "language": "python",
     "metadata": {},
     "outputs": [],
     "prompt_number": 37
    },
    {
     "cell_type": "code",
     "collapsed": false,
     "input": [
      "vectorizer = TfidfVectorizer(stop_words=stopset,\n",
      "                                 use_idf=True, ngram_range=(1, 3))\n",
      "X = vectorizer.fit_transform(corpus)"
     ],
     "language": "python",
     "metadata": {},
     "outputs": [],
     "prompt_number": 38
    },
    {
     "cell_type": "code",
     "collapsed": false,
     "input": [
      "X[0]"
     ],
     "language": "python",
     "metadata": {},
     "outputs": [
      {
       "metadata": {},
       "output_type": "pyout",
       "prompt_number": 39,
       "text": [
        "<1x172855 sparse matrix of type '<type 'numpy.float64'>'\n",
        "\twith 167 stored elements in Compressed Sparse Row format>"
       ]
      }
     ],
     "prompt_number": 39
    },
    {
     "cell_type": "code",
     "collapsed": false,
     "input": [
      "print X[0]"
     ],
     "language": "python",
     "metadata": {},
     "outputs": [
      {
       "output_type": "stream",
       "stream": "stdout",
       "text": [
        "  (0, 89797)\t0.0687875301518\n",
        "  (0, 103062)\t0.0687875301518\n",
        "  (0, 95412)\t0.0687875301518\n",
        "  (0, 113115)\t0.0687875301518\n",
        "  (0, 80367)\t0.0811743987721\n",
        "  (0, 42141)\t0.0811743987721\n",
        "  (0, 94075)\t0.0811743987721\n",
        "  (0, 16935)\t0.0811743987721\n",
        "  (0, 43652)\t0.0811743987721\n",
        "  (0, 95673)\t0.0811743987721\n",
        "  (0, 47719)\t0.0811743987721\n",
        "  (0, 44111)\t0.0811743987721\n",
        "  (0, 152701)\t0.0811743987721\n",
        "  (0, 95010)\t0.0811743987721\n",
        "  (0, 80297)\t0.0811743987721\n",
        "  (0, 92654)\t0.0811743987721\n",
        "  (0, 51519)\t0.0811743987721\n",
        "  (0, 51859)\t0.0811743987721\n",
        "  (0, 27504)\t0.0811743987721\n",
        "  (0, 116034)\t0.0811743987721\n",
        "  (0, 58230)\t0.0811743987721\n",
        "  (0, 162912)\t0.0811743987721\n",
        "  (0, 22609)\t0.0811743987721\n",
        "  (0, 144186)\t0.0811743987721\n",
        "  (0, 51469)\t0.0811743987721\n",
        "  :\t:\n",
        "  (0, 162859)\t0.0603823411146\n",
        "  (0, 170412)\t0.0536369024557\n",
        "  (0, 33692)\t0.0708432082048\n",
        "  (0, 153538)\t0.0733591548059\n",
        "  (0, 90415)\t0.0367330098386\n",
        "  (0, 47878)\t0.0552127202726\n",
        "  (0, 42111)\t0.102837982381\n",
        "  (0, 23197)\t0.0564006615315\n",
        "  (0, 103746)\t0.0531570422195\n",
        "  (0, 38276)\t0.0592342351567\n",
        "  (0, 158882)\t0.0687875301518\n",
        "  (0, 170240)\t0.0351049598159\n",
        "  (0, 51855)\t0.0886095012159\n",
        "  (0, 2141)\t0.0401605649379\n",
        "  (0, 89783)\t0.13108782168\n",
        "  (0, 103055)\t0.137575060304\n",
        "  (0, 158238)\t0.0440876812056\n",
        "  (0, 109328)\t0.011588389902\n",
        "  (0, 121512)\t0.0428258516523\n",
        "  (0, 42234)\t0.0393038227947\n",
        "  (0, 51499)\t0.132673640902\n",
        "  (0, 113091)\t0.104509119186\n",
        "  (0, 95403)\t0.13108782168\n",
        "  (0, 158761)\t0.13108782168\n",
        "  (0, 101120)\t0.0655439108398\n"
       ]
      }
     ],
     "prompt_number": 40
    },
    {
     "cell_type": "code",
     "collapsed": false,
     "input": [
      "X.shape"
     ],
     "language": "python",
     "metadata": {},
     "outputs": [
      {
       "metadata": {},
       "output_type": "pyout",
       "prompt_number": 41,
       "text": [
        "(984, 172855)"
       ]
      }
     ],
     "prompt_number": 41
    },
    {
     "cell_type": "code",
     "collapsed": false,
     "input": [
      "lsa = TruncatedSVD(n_components=27, n_iter=100)\n",
      "lsa.fit(X)\n"
     ],
     "language": "python",
     "metadata": {},
     "outputs": [
      {
       "metadata": {},
       "output_type": "pyout",
       "prompt_number": 42,
       "text": [
        "TruncatedSVD(algorithm='randomized', n_components=27, n_iter=100,\n",
        "       random_state=None, tol=0.0)"
       ]
      }
     ],
     "prompt_number": 42
    },
    {
     "cell_type": "code",
     "collapsed": false,
     "input": [
      "lsa.components_[0]"
     ],
     "language": "python",
     "metadata": {},
     "outputs": [
      {
       "metadata": {},
       "output_type": "pyout",
       "prompt_number": 43,
       "text": [
        "array([ 0.01269487,  0.00085893,  0.00028501, ...,  0.00141995,\n",
        "        0.00141995,  0.00141995])"
       ]
      }
     ],
     "prompt_number": 43
    },
    {
     "cell_type": "heading",
     "level": 3,
     "metadata": {},
     "source": [
      "This is the third pass of generating concepts after editing stopwords-- see text files for the first two. "
     ]
    },
    {
     "cell_type": "code",
     "collapsed": false,
     "input": [
      "terms = vectorizer.get_feature_names()\n",
      "for i, comp in enumerate(lsa.components_): \n",
      "    termsInComp = zip (terms,comp)\n",
      "    sortedTerms =  sorted(termsInComp, key=lambda x: x[1], reverse=True) [:10]\n",
      "    print \"Concept %d:\" % i\n",
      "    for term in sortedTerms:\n",
      "        print term[0]\n",
      "    print \" \""
     ],
     "language": "python",
     "metadata": {},
     "outputs": [
      {
       "output_type": "stream",
       "stream": "stdout",
       "text": [
        "Concept 0:\n",
        "use\n",
        "writes\n",
        "copy\n",
        "article\n",
        "organization\n",
        "university\n",
        "battery\n",
        "know\n",
        "like\n",
        "power\n",
        " \n",
        "Concept 1:"
       ]
      },
      {
       "output_type": "stream",
       "stream": "stdout",
       "text": [
        "\n",
        "b30\n",
        "ingr\n",
        "catbyte\n",
        "dtmedin\n",
        "b30 ingr\n",
        "catbyte b30\n",
        "catbyte b30 ingr\n",
        "dtmedin catbyte\n",
        "dtmedin catbyte b30\n",
        "dave medin\n",
        " \n",
        "Concept 2:"
       ]
      },
      {
       "output_type": "stream",
       "stream": "stdout",
       "text": [
        "\n",
        "00 1993 fujitsu\n",
        "copy\n",
        "copy protection\n",
        "sehari\n",
        "protection\n",
        "ketil\n",
        "tih\n",
        "copy protected\n",
        "reed\n",
        "schaefer\n",
        " \n",
        "Concept 3:"
       ]
      },
      {
       "output_type": "stream",
       "stream": "stdout",
       "text": [
        "\n",
        "ground\n",
        "battery\n",
        "neutral\n",
        "writes\n",
        "outlet\n",
        "wiring\n",
        "concrete\n",
        "phone\n",
        "current\n",
        "work\n",
        " \n",
        "Concept 4:"
       ]
      },
      {
       "output_type": "stream",
       "stream": "stdout",
       "text": [
        "\n",
        "wire\n",
        "neutral\n",
        "wiring\n",
        "ground\n",
        "world\n",
        "could\n",
        "need\n",
        "outlets\n",
        "article\n",
        "gfci\n",
        " \n",
        "Concept 5:"
       ]
      },
      {
       "output_type": "stream",
       "stream": "stdout",
       "text": [
        "\n",
        "copy\n",
        "something\n",
        "hp\n",
        "00 1993 fujitsu\n",
        "ground\n",
        "help\n",
        "wire\n",
        "ve\n",
        "sehari\n",
        "us\n",
        " \n",
        "Concept 6:"
       ]
      },
      {
       "output_type": "stream",
       "stream": "stdout",
       "text": [
        "\n",
        "use\n",
        "university\n",
        "writes\n",
        "something\n",
        "fpu\n",
        "00 1993 10\n",
        "00 00 36\n",
        "think\n",
        "sehari\n",
        "article\n",
        " \n",
        "Concept 7:"
       ]
      },
      {
       "output_type": "stream",
       "stream": "stdout",
       "text": [
        "\n",
        "need\n",
        "circuit\n",
        "organization\n",
        "00 00 48\n",
        "voltage\n",
        "power\n",
        "00 36\n",
        "00 00 36\n",
        "good\n",
        "sehari\n",
        " \n",
        "Concept 8:"
       ]
      },
      {
       "output_type": "stream",
       "stream": "stdout",
       "text": [
        "\n",
        "00 1993 10\n",
        "00 00 36\n",
        "want\n",
        "oversampling\n",
        "cd\n",
        "00 1993\n",
        "hook\n",
        "computer\n",
        "question\n",
        "user\n",
        " \n",
        "Concept 9:"
       ]
      },
      {
       "output_type": "stream",
       "stream": "stdout",
       "text": [
        "\n",
        "writes\n",
        "amp\n",
        "university\n",
        "get\n",
        "know\n",
        "battery\n",
        "time\n",
        "company\n",
        "voltage\n",
        "build\n",
        " \n",
        "Concept 10:"
       ]
      },
      {
       "output_type": "stream",
       "stream": "stdout",
       "text": [
        "\n",
        "00 36\n",
        "work\n",
        "board\n",
        "used\n",
        "sure\n",
        "fpu\n",
        "uga\n",
        "long\n",
        "organization university\n",
        "look\n",
        " \n",
        "Concept 11:"
       ]
      },
      {
       "output_type": "stream",
       "stream": "stdout",
       "text": [
        "\n",
        "article\n",
        "00 1993 10\n",
        "need\n",
        "blue\n",
        "copy\n",
        "make\n",
        "program\n",
        "ve\n",
        "writes\n",
        "software\n",
        " \n",
        "Concept 12:"
       ]
      },
      {
       "output_type": "stream",
       "stream": "stdout",
       "text": [
        "\n",
        "also\n",
        "writes\n",
        "00 18 edt\n",
        "know\n",
        "00 1993 made\n",
        "00 1993\n",
        "concrete\n",
        "current\n",
        "help\n",
        "wiring\n",
        " \n",
        "Concept 13:"
       ]
      },
      {
       "output_type": "stream",
       "stream": "stdout",
       "text": [
        "\n",
        "university\n",
        "two\n",
        "writes\n",
        "00 00 48\n",
        "software\n",
        "current\n",
        "help\n",
        "00 00 36\n",
        "computer\n",
        "things\n",
        " \n",
        "Concept 14:"
       ]
      },
      {
       "output_type": "stream",
       "stream": "stdout",
       "text": [
        "\n",
        "good\n",
        "way\n",
        "00 1993 motorola\n",
        "ground\n",
        "computer\n",
        "organization\n",
        "read\n",
        "possible\n",
        "help\n",
        "power\n",
        " \n",
        "Concept 15:"
       ]
      },
      {
       "output_type": "stream",
       "stream": "stdout",
       "text": [
        "\n",
        "radio\n",
        "use\n",
        "much\n",
        "could\n",
        "amp\n",
        "help\n",
        "way\n",
        "chip\n",
        "question\n",
        "well\n",
        " \n",
        "Concept 16:"
       ]
      },
      {
       "output_type": "stream",
       "stream": "stdout",
       "text": [
        "\n",
        "10\n",
        "00 00 36\n",
        "like\n",
        "time\n",
        "used\n",
        "00 36\n",
        "output\n",
        "00 1993 made\n",
        "work\n",
        "au\n",
        " \n",
        "Concept 17:"
       ]
      },
      {
       "output_type": "stream",
       "stream": "stdout",
       "text": [
        "\n",
        "could\n",
        "phone\n",
        "00 18 edt\n",
        "00 36\n",
        "00 1993\n",
        "well\n",
        "need\n",
        "00 00 36\n",
        "00 00 48\n",
        "two\n",
        " \n",
        "Concept 18:"
       ]
      },
      {
       "output_type": "stream",
       "stream": "stdout",
       "text": [
        "\n",
        "ve\n",
        "much\n",
        "radio\n",
        "article\n",
        "well\n",
        "know\n",
        "good\n",
        "ham\n",
        "need\n",
        "sure\n",
        " \n",
        "Concept 19:"
       ]
      },
      {
       "output_type": "stream",
       "stream": "stdout",
       "text": [
        "\n",
        "know\n",
        "00 36\n",
        "use\n",
        "ve\n",
        "software\n",
        "00 00 48\n",
        "cs\n",
        "lead\n",
        "michael\n",
        "think\n",
        " \n",
        "Concept 20:"
       ]
      },
      {
       "output_type": "stream",
       "stream": "stdout",
       "text": [
        "\n",
        "like\n",
        "use\n",
        "need\n",
        "article\n",
        "problem\n",
        "organization\n",
        "may\n",
        "good\n",
        "two\n",
        "00 00 36\n",
        " \n",
        "Concept 21:"
       ]
      },
      {
       "output_type": "stream",
       "stream": "stdout",
       "text": [
        "\n",
        "organization\n",
        "software\n",
        "might\n",
        "state\n",
        "blue\n",
        "take\n",
        "looking\n",
        "board\n",
        "circuit\n",
        "00 18\n",
        " \n",
        "Concept 22:"
       ]
      },
      {
       "output_type": "stream",
       "stream": "stdout",
       "text": [
        "\n",
        "university\n",
        "really\n",
        "also\n",
        "electronics\n",
        "bit\n",
        "probably\n",
        "used\n",
        "light\n",
        "problem\n",
        "signal\n",
        " \n",
        "Concept 23:"
       ]
      },
      {
       "output_type": "stream",
       "stream": "stdout",
       "text": [
        "\n",
        "writes\n",
        "00 18 edt\n",
        "00 1993\n",
        "used\n",
        "00 00 36\n",
        "phone\n",
        "good\n",
        "university\n",
        "make\n",
        "work\n",
        " \n",
        "Concept 24:"
       ]
      },
      {
       "output_type": "stream",
       "stream": "stdout",
       "text": [
        "\n",
        "00 1993 motorola\n",
        "00 36\n",
        "00 1993 made\n",
        "problem\n",
        "university\n",
        "well\n",
        "00 1993 10\n",
        "radio\n",
        "little\n",
        "work\n",
        " \n",
        "Concept 25:"
       ]
      },
      {
       "output_type": "stream",
       "stream": "stdout",
       "text": [
        "\n",
        "00 1993 10\n",
        "need\n",
        "00 1993 made\n",
        "may\n",
        "good\n",
        "00 00 36\n",
        "low\n",
        "radio\n",
        "circuit\n",
        "au\n",
        " \n",
        "Concept 26:"
       ]
      },
      {
       "output_type": "stream",
       "stream": "stdout",
       "text": [
        "\n",
        "could\n",
        "know\n",
        "use\n",
        "want\n",
        "organization\n",
        "time\n",
        "article\n",
        "00 1993 made\n",
        "using\n",
        "please\n",
        " \n"
       ]
      }
     ],
     "prompt_number": 44
    }
   ],
   "metadata": {}
  }
 ]
}